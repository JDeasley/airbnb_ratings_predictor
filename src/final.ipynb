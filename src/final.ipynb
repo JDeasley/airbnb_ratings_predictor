{
 "cells": [
  {
   "attachments": {},
   "cell_type": "markdown",
   "metadata": {},
   "source": [
    "# Data setup and cleaning"
   ]
  },
  {
   "cell_type": "code",
   "execution_count": 21,
   "metadata": {},
   "outputs": [],
   "source": [
    "import pandas as pd\n",
    "import numpy as np"
   ]
  },
  {
   "cell_type": "code",
   "execution_count": 4,
   "metadata": {},
   "outputs": [],
   "source": [
    "# HELPER FUNCTIONS - DATA CLEANING\n",
    "\n",
    "import re\n",
    "HMTL_TAG = re.compile('<.*?>') \n",
    "WHITESPACE = re.compile(r'\\s+')\n",
    "\n",
    "def replace_html_tags(raw_html, replace_with = ''):\n",
    "  clean_text = re.sub(HMTL_TAG, replace_with, str(raw_html))\n",
    "  return clean_text\n",
    "\n",
    "def replace_whitespace(raw_text, replace_with = ' '):\n",
    "  clean_text = re.sub(WHITESPACE, replace_with, str(raw_text))\n",
    "  return clean_text\n",
    "\n",
    "def clean_text(raw_text):\n",
    "  clean_text = replace_html_tags(raw_text)\n",
    "  clean_text = replace_whitespace(clean_text)\n",
    "  return clean_text\n",
    "\n",
    "# Clean text for every row in a pandas dataframe column. Returns new dataframe with cleaned text.\n",
    "def clean_text_batch(df: pd.DataFrame, col: int) -> pd.DataFrame:\n",
    "  df.iloc[:, col] = df.iloc[:, col].apply(lambda x: clean_text(x))\n",
    "  return df"
   ]
  },
  {
   "cell_type": "code",
   "execution_count": 54,
   "metadata": {},
   "outputs": [],
   "source": [
    "# HELPER FUNCTIONS - DATA ANALYSIS / INTERPRETATION\n",
    "\n",
    "LISTING_FIELDS = ['id','listing_url','scrape_id','last_scraped','source','name','description','neighborhood_overview','picture_url','host_id','host_url','host_name','host_since','host_location','host_about','host_response_time','host_response_rate','host_acceptance_rate','host_is_superhost','host_thumbnail_url','host_picture_url','host_neighbourhood','host_listings_count','host_total_listings_count','host_verifications','host_has_profile_pic','host_identity_verified','neighbourhood','neighbourhood_cleansed','neighbourhood_group_cleansed','latitude','longitude','property_type','room_type','accommodates','bathrooms','bathrooms_text','bedrooms','beds','amenities','price','minimum_nights','maximum_nights','minimum_minimum_nights','maximum_minimum_nights','minimum_maximum_nights','maximum_maximum_nights','minimum_nights_avg_ntm','maximum_nights_avg_ntm','calendar_updated','has_availability','availability_30','availability_60','availability_90','availability_365','calendar_last_scraped','number_of_reviews','number_of_reviews_ltm','number_of_reviews_l30d','first_review','last_review','review_scores_rating','review_scores_accuracy','review_scores_cleanliness','review_scores_checkin','review_scores_communication','review_scores_location','review_scores_value','license','instant_bookable','calculated_host_listings_count','calculated_host_listings_count_entire_homes','calculated_host_listings_count_private_rooms','calculated_host_listings_count_shared_rooms','reviews_per_month']\n",
    "REVIEW_FIELDS = ['listing_id','id','date','reviewer_id','reviewer_name','comments']\n",
    "\n",
    "# function to quickly return index of a given string in LISTING_FIELDS\n",
    "def index_in_listings(field: str) -> int:\n",
    "    return LISTING_FIELDS.index(field)\n",
    "\n",
    "# function to quickly return index of a given string in REVIEW_FIELDS\n",
    "def index_in_reviews(field: str) -> int:\n",
    "    return REVIEW_FIELDS.index(field)\n",
    "\n",
    "# function to map a string reading 't' or 'f' to a boolean\n",
    "def as_bool(t_f: str) -> bool:\n",
    "    if t_f == 't':\n",
    "        return True\n",
    "    elif t_f == 'f':\n",
    "        return False\n",
    "    else:\n",
    "        raise ValueError('Invalid value for boolean: ' + t_f)\n",
    "\n",
    "# function to normalise a numpy array to floats between 0 and 1\n",
    "def normalise(arr: np.ndarray) -> np.ndarray:\n",
    "    return arr / arr.sum()\n",
    "\n"
   ]
  },
  {
   "cell_type": "code",
   "execution_count": 6,
   "metadata": {},
   "outputs": [],
   "source": [
    "# CLEAN LISTINGS TEXT AND SAVE TO NEW CSV\n",
    "df_listings = pd.read_csv(\"../data/listings.csv\")\n",
    "\n",
    "# print(df_listings.applymap(lambda x: isinstance(x, str)).all(0))\n",
    "\n",
    "# Names and indices of columns to clean\n",
    "COLS_TO_CLEAN = {\n",
    "    'description': 6,\n",
    "    'neighborhood_overview': 7,\n",
    "    'host_about': 14\n",
    "}\n",
    "\n",
    "for col in COLS_TO_CLEAN:\n",
    "    df_listings = clean_text_batch(df_listings, COLS_TO_CLEAN[col])\n",
    "\n",
    "# df_listings.to_csv('../data/listings_clean.csv', index=False)"
   ]
  },
  {
   "cell_type": "code",
   "execution_count": 52,
   "metadata": {},
   "outputs": [],
   "source": [
    "# SELECT ONLY TARGET COLUMNS FROM LISTINGS -> SAVE TO NEW CSV\n",
    "\n",
    "df_listings = pd.read_csv(\"../data/listings.csv\")\n",
    "\n",
    "# col names: review_scores_rating,review_scores_accuracy,review_scores_cleanliness,review_scores_checkin,review_scores_communication,review_scores_location,review_scores_value\n",
    "LISTING_COLS_TO_RETAIN = {\n",
    "    'id': index_in_listings('id'),\n",
    "    'review_scores_rating': index_in_listings('review_scores_rating'),\n",
    "    'review_scores_accuracy': index_in_listings('review_scores_accuracy'),\n",
    "    'review_scores_cleanliness': index_in_listings('review_scores_cleanliness'),\n",
    "    'review_scores_checkin': index_in_listings('review_scores_checkin'),\n",
    "    'review_scores_communication': index_in_listings('review_scores_communication'),\n",
    "    'review_scores_location': index_in_listings('review_scores_location'),\n",
    "    'review_scores_value': index_in_listings('review_scores_value')\n",
    "}\n",
    "\n",
    "df_listings = df_listings.iloc[:, list(LISTING_COLS_TO_RETAIN.values())]\n",
    "df_listings = df_listings.dropna()\n",
    "df_listings = df_listings.sort_values(by=['id'])\n",
    "df_listings.to_csv('../data/listings_targets.csv', index=False)\n",
    "\n",
    "# NOTE: Some listings do not have some or all of the review scores. We will need to account for this when we train our model.\n",
    "\n",
    "# print(df_listings.applymap(lambda x: isinstance(x, str)).all(0))\n"
   ]
  },
  {
   "cell_type": "code",
   "execution_count": 56,
   "metadata": {},
   "outputs": [],
   "source": [
    "# CLEAN REVIEWS TEXT AND SELECT ONLY KEY COLUMNS -> SAVE TO NEW CSV\n",
    "\n",
    "df_reviews = pd.read_csv(\"../data/reviews.csv\")\n",
    "df_reviews = clean_text_batch(df_reviews, 5)\n",
    "\n",
    "REVIEW_COLS_TO_RETAIN = {\n",
    "    'listing_id': index_in_reviews('listing_id'),\n",
    "    'comments': index_in_reviews('comments')\n",
    "}\n",
    "\n",
    "df_reviews = df_reviews.iloc[:, list(REVIEW_COLS_TO_RETAIN.values())]\n",
    "\n",
    "# Sort by listing_id, so reviews for a given listing are grouped together\n",
    "df_reviews = df_reviews.sort_values(by=['listing_id'])\n",
    "df_reviews.to_csv('../data/reviews_skeleton.csv', index=False)\n"
   ]
  },
  {
   "cell_type": "code",
   "execution_count": 24,
   "metadata": {},
   "outputs": [
    {
     "name": "stdout",
     "output_type": "stream",
     "text": [
      "(243183,)\n",
      "We enjoyed our stay very much. The room was comfortable, neat and clean. There were no problems at all and the host family was very helpful and caring. They helped us planning trips or recommended sights. The house is situated in a calm neighbourhood close the the Luas and different bus lines. There are no negative aspects to mention, it was a very satisfying stay. I would recommend it and stay there again whenever I am in Dublin. \n"
     ]
    }
   ],
   "source": [
    "comments = df_reviews.iloc[:, 5].values\n",
    "print(comments.shape)\n",
    "print(comments[0])"
   ]
  },
  {
   "attachments": {},
   "cell_type": "markdown",
   "metadata": {},
   "source": [
    "# Text Feature Extraction\n"
   ]
  },
  {
   "cell_type": "code",
   "execution_count": 47,
   "metadata": {},
   "outputs": [
    {
     "name": "stderr",
     "output_type": "stream",
     "text": [
      "[nltk_data] Downloading package punkt to\n",
      "[nltk_data]     C:\\Users\\james\\AppData\\Roaming\\nltk_data...\n",
      "[nltk_data]   Package punkt is already up-to-date!\n",
      "[nltk_data] Downloading package stopwords to\n",
      "[nltk_data]     C:\\Users\\james\\AppData\\Roaming\\nltk_data...\n",
      "[nltk_data]   Package stopwords is already up-to-date!\n"
     ]
    },
    {
     "name": "stdout",
     "output_type": "stream",
     "text": [
      "2214\n",
      "(243183, 2214)\n",
      "<class 'scipy.sparse._csr.csr_matrix'>\n",
      "<class 'scipy.sparse._csr.csr_matrix'>\n",
      "<class 'scipy.sparse._csr.csr_matrix'>\n"
     ]
    }
   ],
   "source": [
    "import nltk\n",
    "nltk.download('punkt')\n",
    "nltk.download('stopwords')\n",
    "\n",
    "from sklearn.feature_extraction.text import TfidfVectorizer\n",
    "\n",
    "# df_max - exclude words which appear in too many documents\n",
    "# df_min - exclude words which appear in too few documents\n",
    "# Use cross validation to determine best values for these parameters.\n",
    "# HAVE TO USE MIN_DF, otherwise feature vectors are:\n",
    "# a) too large for my computer to handle.\n",
    "# b) too full of zeros to be useful.\n",
    "vectorizer = TfidfVectorizer(stop_words='english', max_df=0.2, min_df=0.001) # 93,193 features\n",
    "\n",
    "# A single doc will be a list of sentences, in this case a single review.\n",
    "# Each sentence will be a list of words, or in this case tokens, which have been stemmed.\n",
    "vectors = vectorizer.fit_transform(comments)\n",
    "print(len(vectorizer.get_feature_names_out()))\n",
    "print(vectors.shape)\n"
   ]
  },
  {
   "cell_type": "code",
   "execution_count": 48,
   "metadata": {},
   "outputs": [
    {
     "name": "stdout",
     "output_type": "stream",
     "text": [
      "  (0, 1611)\t0.10034119226853999\n",
      "  (0, 1252)\t0.2606826520004324\n",
      "  (0, 1326)\t0.2716879035414134\n",
      "  (0, 1148)\t0.2735265929660197\n",
      "  (0, 292)\t0.12506550921867488\n",
      "  (0, 569)\t0.2325298183156135\n",
      "  (0, 1197)\t0.19759874300173133\n",
      "  (0, 399)\t0.11856310154980176\n",
      "  (0, 1329)\t0.2040305194885017\n",
      "  (0, 310)\t0.2364094149157616\n",
      "  (0, 1779)\t0.2093844068652601\n",
      "  (0, 986)\t0.11722260700044745\n",
      "  (0, 1762)\t0.21706501481789367\n",
      "  (0, 1615)\t0.16504067658028237\n",
      "  (0, 2031)\t0.2510637012729492\n",
      "  (0, 1490)\t0.2518556702440787\n",
      "  (0, 946)\t0.1919402492295867\n",
      "  (0, 322)\t0.24929458730293394\n",
      "  (0, 947)\t0.11926036963913877\n",
      "  (0, 757)\t0.1610923727814727\n",
      "  (0, 1539)\t0.23053478573094208\n",
      "  (0, 1318)\t0.23720957484615215\n",
      "  (0, 416)\t0.10996789961582039\n",
      "  (0, 1675)\t0.10958327466086534\n",
      "  (0, 681)\t0.14809332862871688\n"
     ]
    }
   ],
   "source": [
    "print(vectors[0])"
   ]
  },
  {
   "attachments": {},
   "cell_type": "markdown",
   "metadata": {},
   "source": [
    "We are trying to predict the ratings of a listing based on reviews for that listing.\n",
    "\n",
    "So in order to train the model, we need to group all reviews for a particular listing with the appropriate listing id."
   ]
  },
  {
   "attachments": {},
   "cell_type": "markdown",
   "metadata": {},
   "source": [
    "# Features and Targets"
   ]
  },
  {
   "cell_type": "code",
   "execution_count": 57,
   "metadata": {},
   "outputs": [],
   "source": [
    "df_listings = pd.read_csv(\"../data/listings.csv\")\n",
    "\n",
    "# col names: review_scores_rating,review_scores_accuracy,review_scores_cleanliness,review_scores_checkin,review_scores_communication,review_scores_location,review_scores_value\n",
    "LISTING_COLS_TO_RETAIN = {\n",
    "    'id': index_in_listings('id'),\n",
    "    'review_scores_rating': index_in_listings('review_scores_rating'),\n",
    "    'review_scores_accuracy': index_in_listings('review_scores_accuracy'),\n",
    "    'review_scores_cleanliness': index_in_listings('review_scores_cleanliness'),\n",
    "    'review_scores_checkin': index_in_listings('review_scores_checkin'),\n",
    "    'review_scores_communication': index_in_listings('review_scores_communication'),\n",
    "    'review_scores_location': index_in_listings('review_scores_location'),\n",
    "    'review_scores_value': index_in_listings('review_scores_value')\n",
    "}\n",
    "\n",
    "targets = df_listings.iloc[:, list(LISTING_COLS_TO_RETAIN.values())]\n",
    "targets = targets.dropna()\n",
    "targets = targets.sort_values(by=['id'])\n",
    "\n",
    "targ_ratings = targets.iloc[:, 1].values\n",
    "targ_acc = targets.iloc[:, 2].values\n",
    "targ_clean = targets.iloc[:, 3].values\n",
    "targ_checkin = targets.iloc[:, 4].values\n",
    "targ_comm = targets.iloc[:, 5].values\n",
    "targ_loc = targets.iloc[:, 6].values\n",
    "targ_value = targets.iloc[:, 7].values\n",
    "\n",
    "# Save targets to csv\n",
    "# targets.to_csv('../data/listings_targets_comp.csv', index=False)"
   ]
  },
  {
   "cell_type": "code",
   "execution_count": 58,
   "metadata": {},
   "outputs": [
    {
     "name": "stdout",
     "output_type": "stream",
     "text": [
      "(6078, 8)\n"
     ]
    }
   ],
   "source": [
    "print(targets.shape)"
   ]
  },
  {
   "cell_type": "code",
   "execution_count": 67,
   "metadata": {},
   "outputs": [],
   "source": [
    "# Group review comments by listing_id\n",
    "reviews = pd.read_csv(\"../data/reviews_skeleton.csv\")\n",
    "reviews = reviews.dropna()\n",
    "reviews = reviews.sort_values(by=['listing_id'])\n",
    "reviews_by_listing = reviews.groupby('listing_id').agg({'comments': '. '.join})\n",
    "reviews_by_listing = reviews_by_listing.reset_index()\n",
    "reviews_by_listing.to_csv('../data/reviews_by_listing.csv', index=False)\n",
    "\n",
    "# Tokenise and stem reviews\n",
    "from nltk.tokenize import word_tokenize\n",
    "from nltk.stem import PorterStemmer\n",
    "\n",
    "stemmer = PorterStemmer()\n",
    "\n",
    "# Function to map each string of comments to stems\n",
    "def stem_review(review):\n",
    "    tokens = word_tokenize(review)\n",
    "    stems = [stemmer.stem(token) for token in tokens]\n",
    "    return ' '.join(stems)\n",
    "\n",
    "reviews_by_listing['stems'] = reviews_by_listing['comments'].apply(stem_review)\n",
    "\n",
    "stems_by_listing = reviews_by_listing[['listing_id', 'stems']]\n",
    "\n",
    "# for index, row in reviews_by_listing.iterrows():\n",
    "#     listing_id = row['listing_id']\n",
    "#     comments = row['comments']\n",
    "#     tokens = word_tokenize(comments)\n",
    "#     stems = [stemmer.stem(token) for token in tokens]\n",
    "#     ' '.join(stems)\n",
    "#     stems_by_listing.append([listing_id, stems])\n",
    "\n",
    "# stems_by_listing = pd.DataFrame(stems_by_listing, columns=['listing_id', 'stems'])\n",
    "\n",
    "# Save stems to csv\n",
    "stems_by_listing.to_csv('../data/stems_by_listing.csv', index=False)\n",
    "\n"
   ]
  },
  {
   "cell_type": "code",
   "execution_count": 68,
   "metadata": {},
   "outputs": [],
   "source": [
    "# SELECT ONLY LISTINGS WITH BOTH REVIEWS AND TARGETS\n",
    "reviews = pd.read_csv(\"../data/stems_by_listing.csv\")\n",
    "targets = pd.read_csv(\"../data/listings_targets_comp.csv\")\n",
    "\n",
    "# Sort both by listing_id\n",
    "reviews = reviews.sort_values(by=['listing_id'])\n",
    "targets = targets.sort_values(by=['id'])\n",
    "\n",
    "# Drop rows where listing_id is not included in both\n",
    "reviews = reviews[reviews['listing_id'].isin(targets['id'])]\n",
    "targets = targets[targets['id'].isin(reviews['listing_id'])]\n"
   ]
  },
  {
   "cell_type": "code",
   "execution_count": 69,
   "metadata": {},
   "outputs": [
    {
     "name": "stdout",
     "output_type": "stream",
     "text": [
      "(6078, 2)\n",
      "(6078, 8)\n"
     ]
    }
   ],
   "source": [
    "# Should have same number of rows (but different number of columns)\n",
    "print(reviews.shape)\n",
    "print(targets.shape)"
   ]
  },
  {
   "cell_type": "code",
   "execution_count": 71,
   "metadata": {},
   "outputs": [
    {
     "name": "stderr",
     "output_type": "stream",
     "text": [
      "[nltk_data] Downloading package punkt to\n",
      "[nltk_data]     C:\\Users\\james\\AppData\\Roaming\\nltk_data...\n",
      "[nltk_data]   Package punkt is already up-to-date!\n",
      "[nltk_data] Downloading package stopwords to\n",
      "[nltk_data]     C:\\Users\\james\\AppData\\Roaming\\nltk_data...\n",
      "[nltk_data]   Package stopwords is already up-to-date!\n"
     ]
    },
    {
     "name": "stdout",
     "output_type": "stream",
     "text": [
      "79179\n",
      "(6078, 79179)\n"
     ]
    }
   ],
   "source": [
    "stemmed_comments = reviews['stems'].values\n",
    "\n",
    "import nltk\n",
    "nltk.download('punkt')\n",
    "nltk.download('stopwords')\n",
    "\n",
    "from sklearn.feature_extraction.text import TfidfVectorizer\n",
    "\n",
    "# df_max - exclude words which appear in too many documents\n",
    "# df_min - exclude words which appear in too few documents\n",
    "# Use cross validation to determine best values for these parameters.\n",
    "# HAVE TO USE MIN_DF, otherwise feature vectors are:\n",
    "# a) too large for my computer to handle.\n",
    "# b) too full of zeros to be useful.\n",
    "# vectorizer = TfidfVectorizer(stop_words='english', max_df=0.2, min_df=0.001) # 93,193 features\n",
    "vectorizer = TfidfVectorizer(stop_words='english') # 79,179 features for 6,078 listings\n",
    "\n",
    "# A single doc will be a list of sentences, in this case a single review.\n",
    "# Each sentence will be a list of words, or in this case tokens, which have been stemmed.\n",
    "X = vectorizer.fit_transform(stemmed_comments)\n",
    "print(len(vectorizer.get_feature_names_out()))\n",
    "print(X.shape)"
   ]
  },
  {
   "cell_type": "code",
   "execution_count": 85,
   "metadata": {},
   "outputs": [
    {
     "name": "stdout",
     "output_type": "stream",
     "text": [
      "0.0\n",
      "1.0\n"
     ]
    }
   ],
   "source": [
    "# CHECKING IF WE NEED TO NORMALISE\n",
    "# (We don't. Max value is 1.0, min is 0.0)\n",
    "\n",
    "arr = X.toarray()\n",
    "\n",
    "# Print maximum value\n",
    "print(np.amin(arr)) # Hoping this is 0.0\n",
    "print(np.amax(arr)) # Hoping this is 1.0\n",
    "\n",
    "# Just curious about the distribution of values\n",
    "# Print mean, median, and standard deviation of values\n",
    "# print(np.mean(arr))\n",
    "# print(np.median(arr))\n",
    "# print(np.std(arr))\n",
    "# Values are mostly very low\n"
   ]
  },
  {
   "cell_type": "code",
   "execution_count": 91,
   "metadata": {},
   "outputs": [
    {
     "name": "stdout",
     "output_type": "stream",
     "text": [
      "(6078, 7)\n"
     ]
    }
   ],
   "source": [
    "Y = targets.iloc[:, 1:].values\n",
    "print(Y.shape)\n",
    "\n",
    "# Split into different categories\n",
    "Y_rating = Y[:, 0]\n",
    "Y_acc = Y[:, 1]\n",
    "Y_clean = Y[:, 2]\n",
    "Y_checkin = Y[:, 3]\n",
    "Y_comm = Y[:, 4]\n",
    "Y_loc = Y[:, 5]\n",
    "Y_value = Y[:, 6]\n"
   ]
  },
  {
   "cell_type": "code",
   "execution_count": 89,
   "metadata": {},
   "outputs": [
    {
     "name": "stdout",
     "output_type": "stream",
     "text": [
      "(6078, 79179)\n",
      "6078\n"
     ]
    }
   ],
   "source": [
    "print(X.shape)\n",
    "print(X.shape[0])"
   ]
  },
  {
   "attachments": {},
   "cell_type": "markdown",
   "metadata": {},
   "source": [
    "Other features"
   ]
  },
  {
   "cell_type": "code",
   "execution_count": 116,
   "metadata": {},
   "outputs": [],
   "source": [
    "listings = pd.read_csv(\"../data/listings_clean.csv\")\n",
    "\n",
    "# Pull out interesting features\n",
    "FEATURES_OF_INTEREST = {\n",
    "    'id': index_in_listings('id'),\n",
    "    'host_is_superhost': index_in_listings('host_is_superhost'),\n",
    "    'host_total_listings_count': index_in_listings('host_total_listings_count'),\n",
    "    'accommodates': index_in_listings('accommodates'),\n",
    "    'number_of_reviews': index_in_listings('number_of_reviews')\n",
    "}\n",
    "\n",
    "# Create a new dataframe with only the features of interest, and save to new csv\n",
    "listings_extra_features = listings.iloc[:, list(FEATURES_OF_INTEREST.values())]\n",
    "listings_extra_features.to_csv('../data/listings_extra_features.csv', index=False)\n",
    "\n"
   ]
  },
  {
   "attachments": {},
   "cell_type": "markdown",
   "metadata": {},
   "source": [
    "# Modelling\n",
    "Now we have our text features and our targets ready to go, we can begin on our model."
   ]
  },
  {
   "cell_type": "code",
   "execution_count": null,
   "metadata": {},
   "outputs": [],
   "source": [
    "# SPLIT INTO TRAINING AND TEST SETS (INDICES)\n",
    "from sklearn.model_selection import train_test_split\n",
    "\n",
    "indices = np.arange(X.shape[0])\n",
    "\n",
    "# Split into training and test sets\n",
    "train, test = train_test_split(indices, test_size=0.2, random_state=42)\n",
    "\n"
   ]
  },
  {
   "cell_type": "code",
   "execution_count": 115,
   "metadata": {},
   "outputs": [
    {
     "name": "stdout",
     "output_type": "stream",
     "text": [
      "min_df = 0.2\n",
      " - max_df = 0.8\n",
      " - max_df = 0.9\n",
      " - max_df = 1.0\n",
      "min_df = 0.4\n",
      " - max_df = 0.8\n",
      " - max_df = 0.9\n",
      " - max_df = 1.0\n",
      "min_df = 0.5\n",
      " - max_df = 0.8\n",
      " - max_df = 0.9\n",
      " - max_df = 1.0\n",
      "min_df = 0.6\n",
      " - max_df = 0.8\n",
      " - max_df = 0.9\n",
      " - max_df = 1.0\n"
     ]
    },
    {
     "data": {
      "image/png": "[encoded data removed]",
      "text/plain": [
       "<Figure size 640x480 with 1 Axes>"
      ]
     },
     "metadata": {},
     "output_type": "display_data"
    }
   ],
   "source": [
    "import matplotlib.pyplot as plt\n",
    "from sklearn.linear_model import LinearRegression\n",
    "from sklearn.model_selection import KFold, cross_val_score\n",
    "from sklearn.feature_extraction.text import TfidfVectorizer\n",
    "\n",
    "colors = ['blue', 'green', 'gold', 'red', 'pink']\n",
    "\n",
    "# df_min - exclude words which appear in too few documents\n",
    "min_df_range = [0.2, 0.4, 0.5, 0.6]\n",
    "# df_max - exclude words which appear in too many documents\n",
    "max_df_range = [0.8, 0.9, 1.0]\n",
    "\n",
    "for min_df_index, min_df in enumerate(min_df_range):\n",
    "    print(f'min_df = {min_df}')\n",
    "\n",
    "    mean_score=[]\n",
    "    std_score=[]\n",
    "\n",
    "    for max_df in max_df_range:\n",
    "        print(f' - max_df = {max_df}')\n",
    "\n",
    "        vectorizer = TfidfVectorizer(stop_words='english', min_df=min_df, max_df=max_df) # 79,179 features for 6,078 listings\n",
    "        X = vectorizer.fit_transform(stemmed_comments)\n",
    "\n",
    "        model = LinearRegression()\n",
    "        kf = KFold(n_splits=5)\n",
    "\n",
    "        scores = cross_val_score(model, X, Y_rating, cv=kf, scoring='neg_mean_squared_error')\n",
    "        mean_score.append(np.array(scores).mean())\n",
    "        std_score.append(np.array(scores).std())\n",
    "\n",
    "    plt.errorbar(max_df_range,mean_score,yerr=std_score,color=colors[min_df_index],label=f'min_df = {min_df}')\n",
    "\n",
    "plt.title('MSE vs Max DF (Basic Linear Regression Model)')\n",
    "plt.xlabel('Max Document Frequency (max_df)')\n",
    "plt.ylabel('Mean Square Error')\n",
    "plt.legend()\n",
    "plt.show()"
   ]
  },
  {
   "cell_type": "code",
   "execution_count": 113,
   "metadata": {},
   "outputs": [],
   "source": [
    "# Set min_df and max_df to the values that gave the best results (lowest MSE)\n",
    "MIN_DF = 0.4\n",
    "MAX_DF = 0.9\n",
    "\n",
    "vectorizer = TfidfVectorizer(stop_words='english', min_df=MIN_DF, max_df=MAX_DF) # 79,179 features for 6,078 listings\n",
    "X = vectorizer.fit_transform(stemmed_comments)\n"
   ]
  },
  {
   "cell_type": "code",
   "execution_count": 114,
   "metadata": {},
   "outputs": [
    {
     "name": "stdout",
     "output_type": "stream",
     "text": [
      "(6078, 101)\n"
     ]
    }
   ],
   "source": [
    "print(X.shape)"
   ]
  },
  {
   "cell_type": "code",
   "execution_count": 157,
   "metadata": {},
   "outputs": [
    {
     "name": "stdout",
     "output_type": "stream",
     "text": [
      "C = 0.1\n",
      "C = 0.15\n",
      "C = 0.2\n",
      "C = 0.25\n",
      "C = 0.3\n"
     ]
    },
    {
     "data": {
      "image/png": "[encoded data removed]",
      "text/plain": [
       "<Figure size 640x480 with 1 Axes>"
      ]
     },
     "metadata": {},
     "output_type": "display_data"
    }
   ],
   "source": [
    "import matplotlib.pyplot as plt\n",
    "from sklearn.linear_model import LinearRegression, Lasso, Ridge\n",
    "from sklearn.model_selection import KFold, cross_val_score\n",
    "from sklearn.metrics import mean_squared_error\n",
    "from sklearn.feature_extraction.text import TfidfVectorizer\n",
    "\n",
    "colors = ['blue', 'green', 'gold', 'red', 'pink']\n",
    "c_range = [0.1, 0.15, 0.2, 0.25, 0.3]\n",
    "# c_range = [2000, 4000, 6000, 8000, 10000]\n",
    "\n",
    "m_linear = LinearRegression()\n",
    "\n",
    "me_lasso = []\n",
    "me_ridge = []\n",
    "me_linear = []\n",
    "\n",
    "se_lasso = []\n",
    "se_ridge = []\n",
    "se_linear = []\n",
    "\n",
    "for c in c_range:\n",
    "    print(f'C = {c}')\n",
    "    \n",
    "    m_lasso = Lasso(alpha=1/c)\n",
    "    m_ridge = Ridge(alpha=1/c)\n",
    "\n",
    "    kf = KFold(n_splits=5)\n",
    "\n",
    "    errors_lasso = cross_val_score(m_lasso, X, Y_rating, cv=kf, scoring='neg_mean_squared_error')\n",
    "    errors_ridge = cross_val_score(m_ridge, X, Y_rating, cv=kf, scoring='neg_mean_squared_error')\n",
    "    errors_linear = cross_val_score(model, X, Y_rating, cv=kf, scoring='neg_mean_squared_error')\n",
    "\n",
    "    me_lasso.append(np.array(errors_lasso).mean())\n",
    "    me_ridge.append(np.array(errors_ridge).mean())\n",
    "    me_linear.append(np.array(errors_linear).mean())\n",
    "\n",
    "    se_lasso.append(np.array(errors_lasso).std())\n",
    "    se_ridge.append(np.array(errors_ridge).std())\n",
    "    se_linear.append(np.array(errors_linear).std())\n",
    "\n",
    "# plt.errorbar(c_range,me_lasso,yerr=se_lasso,color=colors[0],label=f'Lasso')\n",
    "plt.errorbar(c_range,me_ridge,yerr=se_ridge,color=colors[1],label=f'Ridge')\n",
    "plt.errorbar(c_range,me_linear,yerr=se_linear,color=colors[2],label=f'Linear')\n",
    "\n",
    "plt.title('MSE vs C')\n",
    "plt.xlabel('C')\n",
    "plt.ylabel('Mean Square Error')\n",
    "plt.legend()\n",
    "plt.show()"
   ]
  },
  {
   "attachments": {},
   "cell_type": "markdown",
   "metadata": {},
   "source": [
    "Standard Linear Regression (no regularization) works best. (Don't even really need to include this plot, since don't need cross-validation to select any C with no penalty)"
   ]
  },
  {
   "cell_type": "code",
   "execution_count": 139,
   "metadata": {},
   "outputs": [],
   "source": [
    "def gaussian_kernel100(distances):\n",
    "    weights = np.exp(-100*(distances**2))\n",
    "    return weights/np.sum(weights)\n",
    "\n",
    "def gaussian_kernel1000(distances):\n",
    "    weights = np.exp(-1000*(distances**2))\n",
    "    return weights/np.sum(weights)\n",
    "\n",
    "def gaussian_kernel5000(distances):\n",
    "    weights = np.exp(-5000*(distances**2))\n",
    "    return weights/np.sum(weights)"
   ]
  },
  {
   "cell_type": "code",
   "execution_count": 141,
   "metadata": {},
   "outputs": [
    {
     "name": "stdout",
     "output_type": "stream",
     "text": [
      "k = 1\n",
      "k = 2\n",
      "k = 3\n",
      "k = 4\n",
      "k = 5\n",
      "k = 6\n",
      "k = 7\n",
      "k = 8\n",
      "k = 9\n",
      "k = 10\n"
     ]
    },
    {
     "data": {
      "image/png": "[encoded data removed]",
      "text/plain": [
       "<Figure size 640x480 with 1 Axes>"
      ]
     },
     "metadata": {},
     "output_type": "display_data"
    }
   ],
   "source": [
    "# CROSS-VALIDATION TO GET K FOR KNN MODEL\n",
    "\n",
    "from sklearn.neighbors import KNeighborsRegressor\n",
    "\n",
    "k_range = [1, 2, 3, 4, 5, 6, 7, 8, 9, 10]\n",
    "\n",
    "# Want a model with uniform weights, a model with distance weights, and a model for each of the three kernels\n",
    "# And perform cross-validation on each of these models to get the best k\n",
    "\n",
    "me_unif = []\n",
    "me_dist = []\n",
    "me_gaus100 = []\n",
    "me_gaus1000 = []\n",
    "# me_gaus5000 = []\n",
    "\n",
    "se_unif = []\n",
    "se_dist = []\n",
    "se_gaus100 = []\n",
    "se_gaus1000 = []\n",
    "# se_gaus5000 = []\n",
    "\n",
    "for k in k_range:\n",
    "    print(f'k = {k}')\n",
    "    \n",
    "    # Model with uniform weights, a model with distance weights, and a model for each of the three kernels\n",
    "    m_unif = KNeighborsRegressor(n_neighbors=k, weights='uniform')\n",
    "    m_dist = KNeighborsRegressor(n_neighbors=k, weights='distance')\n",
    "    m_gaus100 = KNeighborsRegressor(n_neighbors=k, weights=gaussian_kernel100)\n",
    "    m_gaus1000 = KNeighborsRegressor(n_neighbors=k, weights=gaussian_kernel1000)\n",
    "    # m_gaus5000 = KNeighborsRegressor(n_neighbors=k, weights=gaussian_kernel5000)\n",
    "\n",
    "    kf = KFold(n_splits=5)\n",
    "\n",
    "    errors_unif = cross_val_score(m_unif, X, Y_rating, cv=kf, scoring='neg_mean_squared_error')\n",
    "    errors_dist = cross_val_score(m_dist, X, Y_rating, cv=kf, scoring='neg_mean_squared_error')\n",
    "    errors_gaus100 = cross_val_score(m_gaus100, X, Y_rating, cv=kf, scoring='neg_mean_squared_error')\n",
    "    errors_gaus1000 = cross_val_score(m_gaus1000, X, Y_rating, cv=kf, scoring='neg_mean_squared_error')\n",
    "    # errors_gaus5000 = cross_val_score(m_gaus5000, X, Y_rating, cv=kf, scoring='neg_mean_squared_error')\n",
    "\n",
    "    me_unif.append(np.array(errors_unif).mean())\n",
    "    me_dist.append(np.array(errors_dist).mean())\n",
    "    me_gaus100.append(np.array(errors_gaus100).mean())\n",
    "    me_gaus1000.append(np.array(errors_gaus1000).mean())\n",
    "    # me_gaus5000.append(np.array(errors_gaus5000).mean())\n",
    "\n",
    "    se_unif.append(np.array(errors_unif).std())\n",
    "    se_dist.append(np.array(errors_dist).std())\n",
    "    se_gaus100.append(np.array(errors_gaus100).std())\n",
    "    se_gaus1000.append(np.array(errors_gaus1000).std())\n",
    "    # se_gaus5000.append(np.array(errors_gaus5000).std())\n",
    "\n",
    "plt.errorbar(k_range,me_unif,yerr=se_unif,color=colors[0],label=f'Uniform')\n",
    "plt.errorbar(k_range,me_dist,yerr=se_dist,color=colors[1],label=f'Distance')\n",
    "plt.errorbar(k_range,me_gaus100,yerr=se_gaus100,color=colors[2],label=f'Gaussian (sigma = 100)')\n",
    "plt.errorbar(k_range,me_gaus1000,yerr=se_gaus1000,color=colors[3],label=f'Gaussian (sigma = 1000)')\n",
    "# plt.errorbar(k_range,me_gaus5000,yerr=se_gaus5000,color=colors[4],label=f'Gaussian (sigma = 5000)')\n",
    "\n",
    "plt.title('MSE vs K')\n",
    "plt.xlabel('K (Number of Neighbors)')\n",
    "plt.ylabel('Mean Square Error')\n",
    "plt.legend()\n",
    "plt.show()\n"
   ]
  },
  {
   "attachments": {},
   "cell_type": "markdown",
   "metadata": {},
   "source": [
    "k = 6 neighbours w/ uniform weighting seems best"
   ]
  },
  {
   "cell_type": "code",
   "execution_count": 173,
   "metadata": {},
   "outputs": [
    {
     "name": "stdout",
     "output_type": "stream",
     "text": [
      "  (0, 14)\t0.06142421025102774\n",
      "  (0, 6)\t0.06831220557453328\n",
      "  (0, 26)\t0.06530440040750915\n",
      "  (0, 0)\t0.14158323005274073\n",
      "  (0, 9)\t0.1755342826810126\n",
      "  (0, 7)\t0.0963957522795151\n",
      "  (0, 17)\t0.19972038496654274\n",
      "  (0, 16)\t0.06938175563667849\n",
      "  (0, 13)\t0.23814942468919867\n",
      "  (0, 8)\t0.08481125490189349\n",
      "  (0, 18)\t0.13811275176438467\n",
      "  (0, 22)\t0.10053462460183046\n",
      "  (0, 23)\t0.0966463873583065\n",
      "  (0, 4)\t0.020715871731662838\n",
      "  (0, 12)\t0.07006233591516377\n",
      "  (0, 15)\t0.13558551169626268\n",
      "  (0, 5)\t0.2594678938936784\n",
      "  (0, 2)\t0.05198102592794461\n",
      "  (0, 19)\t0.15793580800753423\n",
      "  (0, 10)\t0.23798401519791101\n",
      "  (0, 11)\t0.1713783120193516\n",
      "  (0, 1)\t0.10906540106976151\n",
      "  (0, 3)\t0.1360730498157233\n",
      "  (0, 25)\t0.49171972300621425\n",
      "  (0, 20)\t0.188708420468916\n",
      "  (0, 24)\t0.35233609865276494\n",
      "  (0, 21)\t0.3786343949273005\n"
     ]
    }
   ],
   "source": [
    "print(X[0])"
   ]
  },
  {
   "cell_type": "code",
   "execution_count": 174,
   "metadata": {},
   "outputs": [
    {
     "name": "stdout",
     "output_type": "stream",
     "text": [
      "MSE for Linear Regression: 0.12419831253896425\n",
      "MSE for KNN: 0.1322929299159357\n",
      "MSE for Mean: 0.1621077187664973\n",
      "MSE for Constant: 0.6310181743421053\n"
     ]
    },
    {
     "data": {
      "image/png": "[encoded data removed]",
      "text/plain": [
       "<Figure size 640x480 with 1 Axes>"
      ]
     },
     "metadata": {},
     "output_type": "display_data"
    }
   ],
   "source": [
    "# COMPARE PERFORMANCE OF LINEAR AND KNN MODELS, ALONG WITH BASELINE PREDICTORS\n",
    "\n",
    "# First get training and test data indices\n",
    "from sklearn.model_selection import train_test_split\n",
    "indices = np.arange(X.shape[0])\n",
    "train, test = train_test_split(indices, test_size=0.2, random_state=0)\n",
    "\n",
    "\n",
    "from sklearn.linear_model import LinearRegression\n",
    "from sklearn.dummy import DummyRegressor\n",
    "from sklearn.metrics import roc_curve, auc\n",
    "\n",
    "# Linear Regression\n",
    "m_linear = LinearRegression()\n",
    "m_linear.fit(X.toarray()[train], Y_rating[train])\n",
    "\n",
    "# KNN\n",
    "m_knn = KNeighborsRegressor(n_neighbors=6, weights='uniform')\n",
    "m_knn.fit(X.toarray()[train], Y_rating[train])\n",
    "\n",
    "# Baseline predictors (mean value and constant 4)\n",
    "m_mean = DummyRegressor(strategy='mean')\n",
    "m_mean.fit(X.toarray()[train], Y_rating[train])\n",
    "m_const = DummyRegressor(strategy='constant', constant=4)\n",
    "m_const.fit(X.toarray()[train], Y_rating[train])\n",
    "\n",
    "# Get predictions for all models\n",
    "pred_linear = m_linear.predict(X.toarray()[test])\n",
    "pred_knn = m_knn.predict(X.toarray()[test])\n",
    "pred_mean = m_mean.predict(X.toarray()[test])\n",
    "pred_const = m_const.predict(X.toarray()[test])\n",
    "\n",
    "# Calculate MSE for all models\n",
    "from sklearn.metrics import mean_squared_error\n",
    "mse_linear = mean_squared_error(Y_rating[test], pred_linear)\n",
    "mse_knn = mean_squared_error(Y_rating[test], pred_knn)\n",
    "mse_mean = mean_squared_error(Y_rating[test], pred_mean)\n",
    "mse_const = mean_squared_error(Y_rating[test], pred_const)\n",
    "\n",
    "print(f'MSE for Linear Regression: {mse_linear}')\n",
    "print(f'MSE for KNN: {mse_knn}')\n",
    "print(f'MSE for Mean: {mse_mean}')\n",
    "print(f'MSE for Constant: {mse_const}')\n",
    "\n",
    "# Visualise performance of all models\n",
    "plt.scatter(Y_rating[test], pred_linear, color=colors[0], label='Linear Regression')\n",
    "plt.scatter(Y_rating[test], pred_knn, color=colors[1], label='KNN')\n",
    "plt.scatter(Y_rating[test], pred_mean, color=colors[2], label='Mean')\n",
    "plt.scatter(Y_rating[test], pred_const, color=colors[3], label='Constant')\n",
    "\n",
    "plt.title('Predicted vs Actual Ratings')\n",
    "plt.xlabel('Actual Rating')\n",
    "plt.xlim(2,5)\n",
    "plt.ylabel('Predicted Rating')\n",
    "plt.ylim(2,5)\n",
    "plt.legend()\n",
    "plt.show()\n",
    "\n"
   ]
  },
  {
   "attachments": {},
   "cell_type": "markdown",
   "metadata": {},
   "source": [
    "Not good :\\"
   ]
  },
  {
   "cell_type": "code",
   "execution_count": null,
   "metadata": {},
   "outputs": [],
   "source": [
    "# REFERENCE WORKFLOW ONLY\n",
    "\n",
    "# Split data into training and test sets\n",
    "# [Maybe use k-fold to do all of this in a loop?]\n",
    "\n",
    "# 1) Train model for each target column\n",
    "# Model 1: review_scores_rating\n",
    "m_rating.fit(vectors[train], listings_targets[train][review_scores_rating_column])\n",
    "# Model 2: review_scores_accuracy\n",
    "m_acc.fit(vectors[train], listings_targets[train][review_scores_accuracy_column])\n",
    "# Model 3: review_scores_cleanliness\n",
    "m_clean.fit(vectors[train], listings_targets[train][review_scores_cleanliness_column])\n",
    "# Model 4: review_scores_checkin\n",
    "m_checkin.fit(vectors[train], listings_targets[train][review_scores_checkin_column])\n",
    "# Model 5: review_scores_communication\n",
    "m_comm.fit(vectors[train], listings_targets[train][review_scores_communication_column])\n",
    "# Model 6: review_scores_location\n",
    "m_loc.fit(vectors[train], listings_targets[train][review_scores_location_column])\n",
    "# Model 7: review_scores_value\n",
    "m_value.fit(vectors[train], listings_targets[train][review_scores_value_column])\n",
    "\n",
    "# 2) Predict for each target column\n",
    "# Model 1: review_scores_rating\n",
    "m_rating.predict(vectors[test])\n",
    "# Model 2: review_scores_accuracy\n",
    "m_acc.predict(vectors[test])\n",
    "# Model 3: review_scores_cleanliness\n",
    "m_clean.predict(vectors[test])\n",
    "# Model 4: review_scores_checkin\n",
    "m_checkin.predict(vectors[test])\n",
    "# Model 5: review_scores_communication\n",
    "m_comm.predict(vectors[test])\n",
    "# Model 6: review_scores_location\n",
    "m_loc.predict(vectors[test])\n",
    "# Model 7: review_scores_value\n",
    "m_value.predict(vectors[test])\n",
    "\n",
    "# 3) Evaluate each model\n",
    "# NOTE: [I don't know how to do this yet. Copilot wrote this for me. Might be where we do k-fold cross validation.]\n",
    "# Model 1: review_scores_rating\n",
    "m_rating.score(vectors[test], listings_targets[test][review_scores_rating_column])\n",
    "# Model 2: review_scores_accuracy\n",
    "m_acc.score(vectors[test], listings_targets[test][review_scores_accuracy_column])\n",
    "# Model 3: review_scores_cleanliness\n",
    "m_clean.score(vectors[test], listings_targets[test][review_scores_cleanliness_column])\n",
    "# Model 4: review_scores_checkin\n",
    "m_checkin.score(vectors[test], listings_targets[test][review_scores_checkin_column])\n",
    "# Model 5: review_scores_communication\n",
    "m_comm.score(vectors[test], listings_targets[test][review_scores_communication_column])\n",
    "# Model 6: review_scores_location\n",
    "m_loc.score(vectors[test], listings_targets[test][review_scores_location_column])\n",
    "# Model 7: review_scores_value\n",
    "m_value.score(vectors[test], listings_targets[test][review_scores_value_column])\n"
   ]
  }
 ],
 "metadata": {
  "kernelspec": {
   "display_name": "_venv",
   "language": "python",
   "name": "python3"
  },
  "language_info": {
   "codemirror_mode": {
    "name": "ipython",
    "version": 3
   },
   "file_extension": ".py",
   "mimetype": "text/x-python",
   "name": "python",
   "nbconvert_exporter": "python",
   "pygments_lexer": "ipython3",
   "version": "3.10.7"
  },
  "orig_nbformat": 4,
  "vscode": {
   "interpreter": {
    "hash": "d823b2eefd00db7fedb7fb746dd6ea2e3dd5dc7a474e97205a727c98ade21320"
   }
  }
 },
 "nbformat": 4,
 "nbformat_minor": 2
}
