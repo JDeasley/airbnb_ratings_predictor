{
 "cells": [
  {
   "cell_type": "code",
   "execution_count": 2,
   "metadata": {},
   "outputs": [],
   "source": [
    "import pandas as pd"
   ]
  },
  {
   "cell_type": "code",
   "execution_count": 2,
   "metadata": {},
   "outputs": [],
   "source": [
    "LISTING_FIELDS = ['id','listing_url','scrape_id','last_scraped','source','name','description','neighborhood_overview','picture_url','host_id','host_url','host_name','host_since','host_location','host_about','host_response_time','host_response_rate','host_acceptance_rate','host_is_superhost','host_thumbnail_url','host_picture_url','host_neighbourhood','host_listings_count','host_total_listings_count','host_verifications','host_has_profile_pic','host_identity_verified','neighbourhood','neighbourhood_cleansed','neighbourhood_group_cleansed','latitude','longitude','property_type','room_type','accommodates','bathrooms','bathrooms_text','bedrooms','beds','amenities','price','minimum_nights','maximum_nights','minimum_minimum_nights','maximum_minimum_nights','minimum_maximum_nights','maximum_maximum_nights','minimum_nights_avg_ntm','maximum_nights_avg_ntm','calendar_updated','has_availability','availability_30','availability_60','availability_90','availability_365','calendar_last_scraped','number_of_reviews','number_of_reviews_ltm','number_of_reviews_l30d','first_review','last_review','review_scores_rating','review_scores_accuracy','review_scores_cleanliness','review_scores_checkin','review_scores_communication','review_scores_location','review_scores_value','license','instant_bookable','calculated_host_listings_count','calculated_host_listings_count_entire_homes','calculated_host_listings_count_private_rooms','calculated_host_listings_count_shared_rooms','reviews_per_month']"
   ]
  },
  {
   "cell_type": "code",
   "execution_count": 40,
   "metadata": {},
   "outputs": [],
   "source": [
    "# DATA CLEANING\n",
    "\n",
    "import re\n",
    "HMTL_TAG = re.compile('<.*?>') \n",
    "WHITESPACE = re.compile(r'\\s+')\n",
    "\n",
    "def replace_html_tags(raw_html, replace_with = ''):\n",
    "  clean_text = re.sub(HMTL_TAG, replace_with, str(raw_html))\n",
    "  return clean_text\n",
    "\n",
    "def replace_whitespace(raw_text, replace_with = ' '):\n",
    "  clean_text = re.sub(WHITESPACE, replace_with, str(raw_text))\n",
    "  return clean_text\n",
    "\n",
    "def clean_text(raw_text):\n",
    "  clean_text = replace_html_tags(raw_text)\n",
    "  clean_text = replace_whitespace(clean_text)\n",
    "  return clean_text\n",
    "\n",
    "# Clean text for every row in a pandas dataframe column. Returns new dataframe with cleaned text.\n",
    "def clean_text_batch(df: pd.DataFrame, col: int) -> pd.DataFrame:\n",
    "  df.iloc[:, col] = df.iloc[:, col].apply(lambda x: clean_text(x))\n",
    "  return df"
   ]
  },
  {
   "cell_type": "code",
   "execution_count": null,
   "metadata": {},
   "outputs": [],
   "source": [
    "a_file = open(\"reviews.csv\", \"r\")\n",
    "\n",
    "lines = a_file.readlines()\n",
    "a_file.close()\n",
    "\n",
    "new_file = open(\"reviews_clean.csv\", \"w\")\n",
    "for line in lines:\n",
    "     line = clean_html(line)\n",
    "     new_file.write(line)\n",
    "\n",
    "new_file.close()"
   ]
  },
  {
   "cell_type": "code",
   "execution_count": 11,
   "metadata": {},
   "outputs": [],
   "source": [
    "# function to quickly return index of a given string in LISTING_FIELDS\n",
    "def index_of(field: str) -> int:\n",
    "    return LISTING_FIELDS.index(field)\n",
    "\n",
    "# function to map a string reading 't' or 'f' to a boolean\n",
    "def as_bool(t_f: str) -> bool:\n",
    "    if t_f == 't':\n",
    "        return True\n",
    "    elif t_f == 'f':\n",
    "        return False\n",
    "    else:\n",
    "        raise ValueError('Invalid value for boolean: ' + t_f)"
   ]
  },
  {
   "cell_type": "code",
   "execution_count": 45,
   "metadata": {},
   "outputs": [],
   "source": [
    "# CLEAN LISTINGS TEXT AND SAVE TO NEW CSV\n",
    "df_listings = pd.read_csv(\"../data/listings.csv\")\n",
    "\n",
    "# print(df_listings.applymap(lambda x: isinstance(x, str)).all(0))\n",
    "\n",
    "# Names and indices of columns to clean\n",
    "COLS_TO_CLEAN = {\n",
    "    'description': 6,\n",
    "    'neighborhood_overview': 7,\n",
    "    'host_about': 14\n",
    "}\n",
    "\n",
    "for col in COLS_TO_CLEAN:\n",
    "    df_listings = clean_text_batch(df_listings, COLS_TO_CLEAN[col])\n",
    "\n",
    "df_listings.to_csv('../data/listings_clean.csv', index=False)"
   ]
  },
  {
   "cell_type": "code",
   "execution_count": 44,
   "metadata": {},
   "outputs": [],
   "source": [
    "# CLEAN REVIEWS TEXT AND SAVE TO NEW CSV\n",
    "df_reviews = pd.read_csv(\"../data/reviews.csv\")\n",
    "df_reviews = clean_text_batch(df_reviews, 5)\n",
    "df_reviews.to_csv(\"../data/reviews_clean.csv\", index=False)"
   ]
  },
  {
   "cell_type": "code",
   "execution_count": 13,
   "metadata": {},
   "outputs": [
    {
     "name": "stdout",
     "output_type": "stream",
     "text": [
      "0    Churchtown, Ireland\n",
      "1    Churchtown, Ireland\n",
      "2        Dublin, Ireland\n",
      "3        Dublin, Ireland\n",
      "4        Dublin, Ireland\n",
      "Name: neighbourhood, dtype: object\n"
     ]
    }
   ],
   "source": [
    "# print(df_listings.iloc[:,index_of('host_is_superhost')].apply(as_bool).head())\n",
    "# print(df_listings.iloc[:,index_of('neighbourhood')].head())"
   ]
  },
  {
   "cell_type": "code",
   "execution_count": null,
   "metadata": {},
   "outputs": [],
   "source": []
  }
 ],
 "metadata": {
  "kernelspec": {
   "display_name": "_venv",
   "language": "python",
   "name": "python3"
  },
  "language_info": {
   "codemirror_mode": {
    "name": "ipython",
    "version": 3
   },
   "file_extension": ".py",
   "mimetype": "text/x-python",
   "name": "python",
   "nbconvert_exporter": "python",
   "pygments_lexer": "ipython3",
   "version": "3.10.7"
  },
  "orig_nbformat": 4,
  "vscode": {
   "interpreter": {
    "hash": "d823b2eefd00db7fedb7fb746dd6ea2e3dd5dc7a474e97205a727c98ade21320"
   }
  }
 },
 "nbformat": 4,
 "nbformat_minor": 2
}
